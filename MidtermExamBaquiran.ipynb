{
  "nbformat": 4,
  "nbformat_minor": 0,
  "metadata": {
    "colab": {
      "name": "MidtermExamBaquiran.ipynb",
      "provenance": [],
      "collapsed_sections": [],
      "authorship_tag": "ABX9TyO0tvjsFCfBrP/VyqT3WTqV",
      "include_colab_link": true
    },
    "kernelspec": {
      "name": "python3",
      "display_name": "Python 3"
    },
    "language_info": {
      "name": "python"
    }
  },
  "cells": [
    {
      "cell_type": "markdown",
      "metadata": {
        "id": "view-in-github",
        "colab_type": "text"
      },
      "source": [
        "<a href=\"https://colab.research.google.com/github/BaquiranCharlesJustin/Linear-Algebra---58020/blob/main/MidtermExamBaquiran.ipynb\" target=\"_parent\"><img src=\"https://colab.research.google.com/assets/colab-badge.svg\" alt=\"Open In Colab\"/></a>"
      ]
    },
    {
      "cell_type": "code",
      "metadata": {
        "colab": {
          "base_uri": "https://localhost:8080/"
        },
        "id": "F_qg4R_TCYhZ",
        "outputId": "ffef347b-f8d4-4b8b-e5db-deec262284c9"
      },
      "source": [
        "import numpy as np\n",
        "#Question 1. Create a Python code that displays a square matrix whose length is 5\n",
        "print(\"Question 1\")\n",
        "\n",
        "a = np.array ([[5,5,5,5,5],[6,6,6,6,6],[7,7,7,7,7],[8,8,8,8,8],[9,9,9,9,9],[1,1,1,1,1]])\n",
        "print(a)"
      ],
      "execution_count": 30,
      "outputs": [
        {
          "output_type": "stream",
          "name": "stdout",
          "text": [
            "Question 1\n",
            "[[5 5 5 5 5]\n",
            " [6 6 6 6 6]\n",
            " [7 7 7 7 7]\n",
            " [8 8 8 8 8]\n",
            " [9 9 9 9 9]\n",
            " [1 1 1 1 1]]\n"
          ]
        }
      ]
    },
    {
      "cell_type": "code",
      "metadata": {
        "colab": {
          "base_uri": "https://localhost:8080/"
        },
        "id": "r-84bCEdDEkL",
        "outputId": "9a9f5536-80a6-434f-90be-d41f513e6901"
      },
      "source": [
        "import numpy as np\n",
        "#Question 2. Create a Python code that displays a square matrix whose elements below the principal diagonal are zero\n",
        "print(\"Question 2\")\n",
        "\n",
        "a = np.array ([[6,5,7],[0,3,9],[0,0,2]])\n",
        "print(a)"
      ],
      "execution_count": 31,
      "outputs": [
        {
          "output_type": "stream",
          "name": "stdout",
          "text": [
            "Question 2\n",
            "[[6 5 7]\n",
            " [0 3 9]\n",
            " [0 0 2]]\n"
          ]
        }
      ]
    },
    {
      "cell_type": "code",
      "metadata": {
        "colab": {
          "base_uri": "https://localhost:8080/"
        },
        "id": "DoHWTSa45pvs",
        "outputId": "cb200cdb-aad9-4ff5-9508-cacdd4a971e4"
      },
      "source": [
        "import numpy as np\n",
        "\n",
        "#Question 3. Create a Python code that displays a square matrix which is symmetrical\n",
        "print(\"Question 3\")\n",
        "\n",
        "\n",
        "#Prints Original Matrix\n",
        "A = np.array([[6,1,6],[1,5,2],[6,2,7]])\n",
        "print(A)\n",
        "print(\"\\n\")\n",
        "\n",
        "#prints transposed matrix\n",
        "print(np.transpose(A))\n",
        "\n"
      ],
      "execution_count": 24,
      "outputs": [
        {
          "output_type": "stream",
          "name": "stdout",
          "text": [
            "Question 3\n",
            "[[6 1 6]\n",
            " [1 5 2]\n",
            " [6 2 7]]\n",
            "\n",
            "\n",
            "[[6 1 6]\n",
            " [1 5 2]\n",
            " [6 2 7]]\n"
          ]
        }
      ]
    },
    {
      "cell_type": "code",
      "metadata": {
        "colab": {
          "base_uri": "https://localhost:8080/"
        },
        "id": "PUdnCY-n_hZ6",
        "outputId": "cb32ecbf-3df4-4e9e-978a-886340f36b06"
      },
      "source": [
        "import numpy as np\n",
        "#Question 4. What is the inverse of matrix C? Show your solution by python coding.\n",
        "print(\" Question 4\")\n",
        "\n",
        "C = np.array([[1,2,3],[2,3,3],[3,4,-2]])\n",
        "\n",
        "#Inverses Values\n",
        "inverseC=np.linalg.inv(C)\n",
        "\n",
        "#Prints inversed values\n",
        "print(inverseC)"
      ],
      "execution_count": 25,
      "outputs": [
        {
          "output_type": "stream",
          "name": "stdout",
          "text": [
            "n Question 4\n",
            "[[-3.6  3.2 -0.6]\n",
            " [ 2.6 -2.2  0.6]\n",
            " [-0.2  0.4 -0.2]]\n"
          ]
        }
      ]
    },
    {
      "cell_type": "code",
      "metadata": {
        "colab": {
          "base_uri": "https://localhost:8080/"
        },
        "id": "0QbdjhtmBGtw",
        "outputId": "2a7b5113-8b8d-4084-b083-0125c53d2eba"
      },
      "source": [
        "#Question 5. What is the determinant of the given matrix in Question 4? Show your solution by python coding\n",
        "print(\"Question 5\")\n",
        "\n",
        "import numpy as np\n",
        "\n",
        "#Displays Matrix\n",
        "a = np.array ([[1,2,3],[2,3,3],[3,4,-2]])\n",
        "print(a)\n",
        "\n",
        "#Calculates and rounds off the value of the determinant\n",
        "print(round(np.linalg.det(a)))"
      ],
      "execution_count": 29,
      "outputs": [
        {
          "output_type": "stream",
          "name": "stdout",
          "text": [
            "Question 5\n",
            "[[ 1  2  3]\n",
            " [ 2  3  3]\n",
            " [ 3  4 -2]]\n",
            "5\n"
          ]
        }
      ]
    },
    {
      "cell_type": "code",
      "metadata": {
        "colab": {
          "base_uri": "https://localhost:8080/"
        },
        "id": "v_VkVmEhAeIe",
        "outputId": "96a74d44-9b47-47c6-e253-851c2fc49c0a"
      },
      "source": [
        "import numpy as np\n",
        "#Question 6. Find the roots of the linear equations by showing its python codes\n",
        "\n",
        "print(\"Question 6\")\n",
        "#Displays matrix\n",
        "A = np.array([[5,4,1],[10,9,4],[10,13,15]])\n",
        "print (A)\n",
        "print(\"\\n\")\n",
        "#Inverses value of matrix\n",
        "inverseA=np.linalg.inv(A)\n",
        "\n",
        "B = np.array ([[3.4,],[8.8],[19.2]])\n",
        "print(B)\n",
        "print(\"\\n\")\n",
        "\n",
        "#Calculates the roots of the given linear equation\n",
        "roots = np.dot(inverseA,B)\n",
        "print(roots)"
      ],
      "execution_count": 33,
      "outputs": [
        {
          "output_type": "stream",
          "name": "stdout",
          "text": [
            "Question 6\n",
            "[[ 5  4  1]\n",
            " [10  9  4]\n",
            " [10 13 15]]\n",
            "\n",
            "\n",
            "[[ 3.4]\n",
            " [ 8.8]\n",
            " [19.2]]\n",
            "\n",
            "\n",
            "[[0.2]\n",
            " [0.4]\n",
            " [0.8]]\n"
          ]
        }
      ]
    }
  ]
}