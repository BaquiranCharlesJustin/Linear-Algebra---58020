{
  "nbformat": 4,
  "nbformat_minor": 0,
  "metadata": {
    "colab": {
      "name": " Practical Lab Exam 1.ipynb",
      "provenance": [],
      "authorship_tag": "ABX9TyNe1oDyhj2FVQolqKbwANgZ",
      "include_colab_link": true
    },
    "kernelspec": {
      "name": "python3",
      "display_name": "Python 3"
    },
    "language_info": {
      "name": "python"
    }
  },
  "cells": [
    {
      "cell_type": "markdown",
      "metadata": {
        "id": "view-in-github",
        "colab_type": "text"
      },
      "source": [
        "<a href=\"https://colab.research.google.com/github/BaquiranCharlesJustin/Linear-Algebra---58020/blob/main/Practical_Lab_Exam_1.ipynb\" target=\"_parent\"><img src=\"https://colab.research.google.com/assets/colab-badge.svg\" alt=\"Open In Colab\"/></a>"
      ]
    },
    {
      "cell_type": "markdown",
      "metadata": {
        "id": "uaaklJRnTLZn"
      },
      "source": [
        "Practical Lab Exam 1"
      ]
    },
    {
      "cell_type": "code",
      "metadata": {
        "id": "3SLpltypBXQQ"
      },
      "source": [
        "import numpy as np"
      ],
      "execution_count": 2,
      "outputs": []
    },
    {
      "cell_type": "markdown",
      "metadata": {
        "id": "Kgmi7yWVHxTd"
      },
      "source": [
        "Problem 1"
      ]
    },
    {
      "cell_type": "code",
      "metadata": {
        "colab": {
          "base_uri": "https://localhost:8080/"
        },
        "id": "kw6P2_tZFxPY",
        "outputId": "7c96a1f7-2fa0-491e-e060-582276e096ea"
      },
      "source": [
        "# a. WY\n",
        "\n",
        "A = np.array([[1,-3],[2,-2],[3,1]])\n",
        "B = np.array([[1,2,0],[0,-1,2]])\n",
        "\n",
        "print(np.dot(A,B))"
      ],
      "execution_count": 26,
      "outputs": [
        {
          "output_type": "stream",
          "name": "stdout",
          "text": [
            "[[ 1  5 -6]\n",
            " [ 2  6 -4]\n",
            " [ 3  5  2]]\n"
          ]
        }
      ]
    },
    {
      "cell_type": "code",
      "metadata": {
        "colab": {
          "base_uri": "https://localhost:8080/"
        },
        "id": "WPGSFvxVBk7F",
        "outputId": "43f69ebb-ec9a-498b-9388-32736ab21bdc"
      },
      "source": [
        "#b. Z+Z\n",
        "\n",
        "a = np.array([[0,1],[2,3]])\n",
        "\n",
        "print(a+a)"
      ],
      "execution_count": 14,
      "outputs": [
        {
          "output_type": "stream",
          "name": "stdout",
          "text": [
            "[[0 2]\n",
            " [4 6]]\n"
          ]
        }
      ]
    },
    {
      "cell_type": "code",
      "metadata": {
        "colab": {
          "base_uri": "https://localhost:8080/"
        },
        "id": "KVk_iZ2_CChM",
        "outputId": "b07fca45-12e1-455c-c571-da9b368a2859"
      },
      "source": [
        "#c. 3X\n",
        "\n",
        "A = np.array([[3,2,1],[-1,2,3],[2,-1,1]])\n",
        "\n",
        "print(A*3)"
      ],
      "execution_count": 51,
      "outputs": [
        {
          "output_type": "stream",
          "name": "stdout",
          "text": [
            "[[ 9  6  3]\n",
            " [-3  6  9]\n",
            " [ 6 -3  3]]\n"
          ]
        }
      ]
    },
    {
      "cell_type": "markdown",
      "metadata": {
        "id": "lHfnk9xEMTr9"
      },
      "source": [
        "Problem 2\n"
      ]
    },
    {
      "cell_type": "code",
      "metadata": {
        "colab": {
          "base_uri": "https://localhost:8080/"
        },
        "id": "QvumvYKyQMEp",
        "outputId": "a1e422f4-2065-4322-c3d5-387b27e4c6ce"
      },
      "source": [
        "#Problem2A\n",
        "\n",
        "A = np.array([[1,-3],[2,-2],[3,1]])\n",
        "B = np.array([[1,2,0],[0,-1,2]])\n",
        "\n",
        "D = np.dot(B,A)\n",
        "\n",
        "print(D*D)\n",
        "\n",
        "#Statement is not true"
      ],
      "execution_count": 50,
      "outputs": [
        {
          "output_type": "stream",
          "name": "stdout",
          "text": [
            "[[25 49]\n",
            " [16 16]]\n"
          ]
        }
      ]
    },
    {
      "cell_type": "markdown",
      "metadata": {
        "id": "gbJUv8otQw2e"
      },
      "source": [
        "Result for "
      ]
    },
    {
      "cell_type": "code",
      "metadata": {
        "colab": {
          "base_uri": "https://localhost:8080/"
        },
        "id": "_wQlbEuGMZv6",
        "outputId": "310b126a-80c9-449a-8571-5fa863a08fac"
      },
      "source": [
        "#Problem2B\n",
        "A = np.array([[1,-3],[2,-2],[3,1]])\n",
        "B = np.array([[1,2,0],[0,-1,2]])\n",
        "C= np.array([[3,2,1],[-1,2,3],[2,-1,1]])\n",
        "\n",
        "D = np.dot(A,B)\n",
        "\n",
        "print(np.subtract(D,C))\n",
        "\n",
        "#Statement is true\n"
      ],
      "execution_count": 45,
      "outputs": [
        {
          "output_type": "stream",
          "name": "stdout",
          "text": [
            "[[-2  3 -7]\n",
            " [ 3  4 -7]\n",
            " [ 1  6  1]]\n"
          ]
        }
      ]
    },
    {
      "cell_type": "code",
      "metadata": {
        "colab": {
          "base_uri": "https://localhost:8080/"
        },
        "id": "TmCoJO9aPalC",
        "outputId": "85676251-e737-43ce-fdf8-2708dde9097c"
      },
      "source": [
        "#Problem2C\n",
        "A = np.array([[1,-3],[2,-2],[3,1]])\n",
        "B = np.array([[1,2,0],[0,-1,2]])\n",
        "C= np.array([[0,1],[2,3]])\n",
        "\n",
        "D = np.dot(B,A)\n",
        "E = C*C\n",
        "\n",
        "#Statement is not true\n",
        "\n",
        "print(np.subtract(D,E))"
      ],
      "execution_count": 49,
      "outputs": [
        {
          "output_type": "stream",
          "name": "stdout",
          "text": [
            "[[ 5 -8]\n",
            " [ 0 -5]]\n"
          ]
        }
      ]
    }
  ]
}