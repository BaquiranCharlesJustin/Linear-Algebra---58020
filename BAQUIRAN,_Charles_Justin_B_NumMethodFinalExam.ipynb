{
  "nbformat": 4,
  "nbformat_minor": 0,
  "metadata": {
    "colab": {
      "name": "BAQUIRAN, Charles Justin B NumMethodFinalExam.ipynb",
      "provenance": [],
      "authorship_tag": "ABX9TyMc2w2HHaaGi7K4rXp7ju74",
      "include_colab_link": true
    },
    "kernelspec": {
      "name": "python3",
      "display_name": "Python 3"
    },
    "language_info": {
      "name": "python"
    }
  },
  "cells": [
    {
      "cell_type": "markdown",
      "metadata": {
        "id": "view-in-github",
        "colab_type": "text"
      },
      "source": [
        "<a href=\"https://colab.research.google.com/github/BaquiranCharlesJustin/Linear-Algebra---58020/blob/main/BAQUIRAN%2C_Charles_Justin_B_NumMethodFinalExam.ipynb\" target=\"_parent\"><img src=\"https://colab.research.google.com/assets/colab-badge.svg\" alt=\"Open In Colab\"/></a>"
      ]
    },
    {
      "cell_type": "code",
      "execution_count": 2,
      "metadata": {
        "colab": {
          "base_uri": "https://localhost:8080/"
        },
        "id": "c4KdxmZY2nqV",
        "outputId": "850be5ca-0c0c-480b-beea-dc06e4fac72d"
      },
      "outputs": [
        {
          "output_type": "stream",
          "name": "stdout",
          "text": [
            "Integral = 2.1731\n"
          ]
        }
      ],
      "source": [
        "import math\n",
        "def f(x):\n",
        "  return(math.exp(x)) \n",
        "a = -1\n",
        "b = 1\n",
        "n = 10\n",
        "h = (b-a)/n   \n",
        "S = h * (f(a)+f(b))    \n",
        "for i in range(1,n):\n",
        "    S += f(a+i*h)\n",
        "Integral = S*h\n",
        "print('Integral = %0.4f' %Integral)"
      ]
    }
  ]
}