{
  "nbformat": 4,
  "nbformat_minor": 0,
  "metadata": {
    "colab": {
      "name": "Welcome To Colaboratory",
      "provenance": [],
      "collapsed_sections": [],
      "toc_visible": true,
      "include_colab_link": true
    },
    "kernelspec": {
      "display_name": "Python 3",
      "name": "python3"
    }
  },
  "cells": [
    {
      "cell_type": "markdown",
      "metadata": {
        "id": "view-in-github",
        "colab_type": "text"
      },
      "source": [
        "<a href=\"https://colab.research.google.com/github/BaquiranCharlesJustin/Linear-Algebra---58020/blob/main/BaquiranCharlesJustinPythonExercise1.ipynb\" target=\"_parent\"><img src=\"https://colab.research.google.com/assets/colab-badge.svg\" alt=\"Open In Colab\"/></a>"
      ]
    },
    {
      "cell_type": "code",
      "metadata": {
        "id": "wYlCwT58LuqT"
      },
      "source": [
        "import numpy as np\n",
        "\n",
        "             "
      ],
      "execution_count": 5,
      "outputs": []
    },
    {
      "cell_type": "code",
      "metadata": {
        "id": "xrNe3FwCM8eA",
        "outputId": "05769874-2171-49af-be41-1b09702392dd",
        "colab": {
          "base_uri": "https://localhost:8080/"
        }
      },
      "source": [
        "#Sum\n",
        "a = np.array([[-5,0], [4,1]])\n",
        "b = np.array([[6,-3], [2,3]])\n",
        "print(a+b)"
      ],
      "execution_count": 8,
      "outputs": [
        {
          "output_type": "stream",
          "name": "stdout",
          "text": [
            "[[ 1 -3]\n",
            " [ 6  4]]\n"
          ]
        }
      ]
    },
    {
      "cell_type": "code",
      "metadata": {
        "id": "ZmMSiqlCNR0b",
        "outputId": "afb41c9c-077f-4813-bb8d-e1b768e8e7e2",
        "colab": {
          "base_uri": "https://localhost:8080/"
        }
      },
      "source": [
        "#Difference1\n",
        "a = np.array([[-5,0], [4,1]])\n",
        "b = np.array([[6,-3], [2,3]])\n",
        "print(a-b)"
      ],
      "execution_count": 9,
      "outputs": [
        {
          "output_type": "stream",
          "name": "stdout",
          "text": [
            "[[-11   3]\n",
            " [  2  -2]]\n"
          ]
        }
      ]
    },
    {
      "cell_type": "code",
      "metadata": {
        "id": "l51L15zaNJdH",
        "outputId": "3e41edb8-2a48-469e-dab4-76ffba911e64",
        "colab": {
          "base_uri": "https://localhost:8080/"
        }
      },
      "source": [
        "#Difference2\n",
        "a = np.array([[-5,0], [4,1]])\n",
        "b = np.array([[6,-3], [2,3]])\n",
        "print(b-b)"
      ],
      "execution_count": 10,
      "outputs": [
        {
          "output_type": "stream",
          "name": "stdout",
          "text": [
            "[[0 0]\n",
            " [0 0]]\n"
          ]
        }
      ]
    }
  ]
}