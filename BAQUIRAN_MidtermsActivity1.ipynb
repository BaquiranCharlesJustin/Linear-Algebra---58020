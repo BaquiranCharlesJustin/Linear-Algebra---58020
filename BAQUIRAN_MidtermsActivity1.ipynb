{
  "nbformat": 4,
  "nbformat_minor": 0,
  "metadata": {
    "colab": {
      "name": "BAQUIRAN-MidtermsActivity1.ipynb",
      "provenance": [],
      "authorship_tag": "ABX9TyOklG6+8flj6OAnnbHqU6a9",
      "include_colab_link": true
    },
    "kernelspec": {
      "name": "python3",
      "display_name": "Python 3"
    },
    "language_info": {
      "name": "python"
    }
  },
  "cells": [
    {
      "cell_type": "markdown",
      "metadata": {
        "id": "view-in-github",
        "colab_type": "text"
      },
      "source": [
        "<a href=\"https://colab.research.google.com/github/BaquiranCharlesJustin/Linear-Algebra---58020/blob/main/BAQUIRAN_MidtermsActivity1.ipynb\" target=\"_parent\"><img src=\"https://colab.research.google.com/assets/colab-badge.svg\" alt=\"Open In Colab\"/></a>"
      ]
    },
    {
      "cell_type": "code",
      "metadata": {
        "colab": {
          "base_uri": "https://localhost:8080/"
        },
        "id": "yxFQ9F5cb-lz",
        "outputId": "868ac3dd-cee8-4c97-9271-55ac08f253f9"
      },
      "source": [
        "import numpy as np\n",
        "\n",
        "#main array\n",
        "a = np.array([[-5,0,6], \n",
        "              [4,1,2], \n",
        "              [4,9,8]])\n",
        "\n",
        "#inverses values\n",
        "b = np.linalg.inv(a)\n",
        "\n",
        "print(\"Original Array\")\n",
        "print(a)\n",
        "\n",
        "#transposed elements of array A\n",
        "print(\"transposed elements of array A\")\n",
        "print(np.transpose(a))\n",
        "\n",
        "#transposed elements with inverse value\n",
        "print(\"transposed elements of array A that have inverse value\")\n",
        "print(np.transpose(b))"
      ],
      "execution_count": 8,
      "outputs": [
        {
          "output_type": "stream",
          "name": "stdout",
          "text": [
            "Original Array\n",
            "[[-5  0  6]\n",
            " [ 4  1  2]\n",
            " [ 4  9  8]]\n",
            "transposed elements of array A\n",
            "[[-5  4  4]\n",
            " [ 0  1  9]\n",
            " [ 6  2  8]]\n",
            "transposed elements of array A that have inverse value\n",
            "[[-0.04132231 -0.09917355  0.1322314 ]\n",
            " [ 0.2231405  -0.26446281  0.18595041]\n",
            " [-0.02479339  0.14049587 -0.02066116]]\n"
          ]
        }
      ]
    }
  ]
}