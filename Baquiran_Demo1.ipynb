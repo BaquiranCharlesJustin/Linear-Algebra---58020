{
  "nbformat": 4,
  "nbformat_minor": 0,
  "metadata": {
    "colab": {
      "name": "Baquiran_Demo1",
      "provenance": [],
      "collapsed_sections": [],
      "include_colab_link": true
    },
    "kernelspec": {
      "display_name": "Python 3",
      "name": "python3"
    }
  },
  "cells": [
    {
      "cell_type": "markdown",
      "metadata": {
        "id": "view-in-github",
        "colab_type": "text"
      },
      "source": [
        "<a href=\"https://colab.research.google.com/github/BaquiranCharlesJustin/Linear-Algebra---58020/blob/main/Baquiran_Demo1.ipynb\" target=\"_parent\"><img src=\"https://colab.research.google.com/assets/colab-badge.svg\" alt=\"Open In Colab\"/></a>"
      ]
    },
    {
      "cell_type": "code",
      "metadata": {
        "id": "fdCcYIzZGKOv",
        "colab": {
          "base_uri": "https://localhost:8080/"
        },
        "outputId": "39f15abc-874d-450d-a202-405cad6dcfd5"
      },
      "source": [
        "x, y ,z = 'one' , 'two' , 'three'\n",
        "print (x)\n",
        "print (y)\n",
        "print (z)"
      ],
      "execution_count": null,
      "outputs": [
        {
          "output_type": "stream",
          "text": [
            "one\n",
            "two\n",
            "three\n"
          ],
          "name": "stdout"
        }
      ]
    },
    {
      "cell_type": "code",
      "metadata": {
        "id": "6-Sr6ZpVGC4A",
        "colab": {
          "base_uri": "https://localhost:8080/"
        },
        "outputId": "013e971c-09a9-4f40-9a57-90d39c8c0e91"
      },
      "source": [
        "x=y=z = 'seven'\n",
        "print (x)\n",
        "print (y)\n",
        "print (z)\n"
      ],
      "execution_count": null,
      "outputs": [
        {
          "output_type": "stream",
          "text": [
            "seven\n",
            "seven\n",
            "seven\n"
          ],
          "name": "stdout"
        }
      ]
    },
    {
      "cell_type": "code",
      "metadata": {
        "id": "Ql-_Xjx0G_8A",
        "colab": {
          "base_uri": "https://localhost:8080/"
        },
        "outputId": "168597a0-7a11-4472-f8d7-bc3a383d7288"
      },
      "source": [
        "x = \"is complex\"\n",
        "print (\"Python programming\" \" \"+ x )"
      ],
      "execution_count": null,
      "outputs": [
        {
          "output_type": "stream",
          "text": [
            "Python programming is complex\n"
          ],
          "name": "stdout"
        }
      ]
    },
    {
      "cell_type": "code",
      "metadata": {
        "id": "YARTQQsdGDWI",
        "colab": {
          "base_uri": "https://localhost:8080/"
        },
        "outputId": "6c7a1524-cb88-44a1-a504-038accea8f54"
      },
      "source": [
        "x = \"Python programming is complex\"\n",
        "y = \"But it is also fun.\"\n",
        "print (x + \" \" + y)\n"
      ],
      "execution_count": null,
      "outputs": [
        {
          "output_type": "stream",
          "text": [
            "Python programming is complex But it is also fun.\n"
          ],
          "name": "stdout"
        }
      ]
    },
    {
      "cell_type": "code",
      "metadata": {
        "id": "5hZ2qhv2GDfu",
        "colab": {
          "base_uri": "https://localhost:8080/"
        },
        "outputId": "88e507c2-1d30-4817-9448-261b9bf23f65"
      },
      "source": [
        "x = 9\n",
        "y=11\n",
        "y=y%x\n",
        "print (y)"
      ],
      "execution_count": null,
      "outputs": [
        {
          "output_type": "stream",
          "text": [
            "2\n"
          ],
          "name": "stdout"
        }
      ]
    },
    {
      "cell_type": "code",
      "metadata": {
        "id": "9muyGhSzKUOT",
        "colab": {
          "base_uri": "https://localhost:8080/"
        },
        "outputId": "4f44d43f-a14a-4161-f68c-f74e465bdb59"
      },
      "source": [
        "x = 10\n",
        "y = 11\n",
        "x >= 11 or y >=10\n"
      ],
      "execution_count": null,
      "outputs": [
        {
          "output_type": "execute_result",
          "data": {
            "text/plain": [
              "True"
            ]
          },
          "metadata": {},
          "execution_count": 20
        }
      ]
    },
    {
      "cell_type": "code",
      "metadata": {
        "id": "O5GMIosnKgt7",
        "colab": {
          "base_uri": "https://localhost:8080/"
        },
        "outputId": "a96ad904-fdd1-4abf-f429-246107e9aecc"
      },
      "source": [
        "x = 5\n",
        "y= 9\n",
        "x != y"
      ],
      "execution_count": null,
      "outputs": [
        {
          "output_type": "execute_result",
          "data": {
            "text/plain": [
              "True"
            ]
          },
          "metadata": {},
          "execution_count": 21
        }
      ]
    }
  ]
}