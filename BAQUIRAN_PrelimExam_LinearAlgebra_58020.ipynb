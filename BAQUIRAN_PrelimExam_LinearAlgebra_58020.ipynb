{
  "nbformat": 4,
  "nbformat_minor": 0,
  "metadata": {
    "colab": {
      "name": "BAQUIRAN_PrelimExam_LinearAlgebra_58020.ipynb",
      "provenance": [],
      "include_colab_link": true
    },
    "kernelspec": {
      "name": "python3",
      "display_name": "Python 3"
    },
    "language_info": {
      "name": "python"
    }
  },
  "cells": [
    {
      "cell_type": "markdown",
      "metadata": {
        "id": "view-in-github",
        "colab_type": "text"
      },
      "source": [
        "<a href=\"https://colab.research.google.com/github/BaquiranCharlesJustin/Linear-Algebra---58020/blob/main/BAQUIRAN_PrelimExam_LinearAlgebra_58020.ipynb\" target=\"_parent\"><img src=\"https://colab.research.google.com/assets/colab-badge.svg\" alt=\"Open In Colab\"/></a>"
      ]
    },
    {
      "cell_type": "markdown",
      "metadata": {
        "id": "m4m1ewknkB-N"
      },
      "source": [
        ""
      ]
    },
    {
      "cell_type": "markdown",
      "metadata": {
        "id": "qq86I51xqD_i"
      },
      "source": [
        "**LINEAR ALGEBRA PRELIM EXAM**"
      ]
    },
    {
      "cell_type": "markdown",
      "metadata": {
        "id": "7wzKg60anbBu"
      },
      "source": [
        "Question 1"
      ]
    },
    {
      "cell_type": "code",
      "metadata": {
        "colab": {
          "base_uri": "https://localhost:8080/"
        },
        "id": "oZJKBpwNivMw",
        "outputId": "98d8dd73-2f05-4f70-b1e4-f667cd2a0eeb"
      },
      "source": [
        "import numpy as np\n",
        "\n",
        "a = np.array([1,1,1,1])\n",
        "\n",
        "diagonal = np.diag(a)\n",
        "\n",
        "print(diagonal)"
      ],
      "execution_count": null,
      "outputs": [
        {
          "output_type": "stream",
          "name": "stdout",
          "text": [
            "[[1 0 0 0]\n",
            " [0 1 0 0]\n",
            " [0 0 1 0]\n",
            " [0 0 0 1]]\n"
          ]
        }
      ]
    },
    {
      "cell_type": "markdown",
      "metadata": {
        "id": "LbHcsPJ-ndDU"
      },
      "source": [
        "Question 2"
      ]
    },
    {
      "cell_type": "code",
      "metadata": {
        "colab": {
          "base_uri": "https://localhost:8080/"
        },
        "id": "g3VnjF9QlnA1",
        "outputId": "1da222b7-8e69-4738-d4d9-ce6ac2244606"
      },
      "source": [
        "a = np.array([1,1,1,1])\n",
        "\n",
        "a *= 1\n",
        "diagonal = np.diag(a)\n",
        "\n",
        "print(diagonal)"
      ],
      "execution_count": null,
      "outputs": [
        {
          "output_type": "stream",
          "name": "stdout",
          "text": [
            "[[1 0 0 0]\n",
            " [0 1 0 0]\n",
            " [0 0 1 0]\n",
            " [0 0 0 1]]\n"
          ]
        }
      ]
    },
    {
      "cell_type": "markdown",
      "metadata": {
        "id": "zs9G9hQdpXmh"
      },
      "source": [
        "Question 3"
      ]
    },
    {
      "cell_type": "code",
      "metadata": {
        "colab": {
          "base_uri": "https://localhost:8080/"
        },
        "id": "mYM0BEc0pnmf",
        "outputId": "773dfddf-f603-4aa6-d869-902edcf06543"
      },
      "source": [
        "import numpy as np\n",
        "\n",
        "a = np.array([2,7,4])\n",
        "b = np.array ([3,9,8])\n",
        "\n",
        "c = np.cross(a,b)\n",
        "\n",
        "print(c)"
      ],
      "execution_count": 2,
      "outputs": [
        {
          "output_type": "stream",
          "name": "stdout",
          "text": [
            "[20 -4 -3]\n"
          ]
        }
      ]
    }
  ]
}