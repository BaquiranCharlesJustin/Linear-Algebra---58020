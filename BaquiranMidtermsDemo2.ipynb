{
  "nbformat": 4,
  "nbformat_minor": 0,
  "metadata": {
    "colab": {
      "name": "BaquiranMidtermsDemo2.ipynb",
      "provenance": [],
      "authorship_tag": "ABX9TyOqrvACXUcRExbi00f9iZcQ",
      "include_colab_link": true
    },
    "kernelspec": {
      "name": "python3",
      "display_name": "Python 3"
    },
    "language_info": {
      "name": "python"
    }
  },
  "cells": [
    {
      "cell_type": "markdown",
      "metadata": {
        "id": "view-in-github",
        "colab_type": "text"
      },
      "source": [
        "<a href=\"https://colab.research.google.com/github/BaquiranCharlesJustin/Linear-Algebra---58020/blob/main/BaquiranMidtermsDemo2.ipynb\" target=\"_parent\"><img src=\"https://colab.research.google.com/assets/colab-badge.svg\" alt=\"Open In Colab\"/></a>"
      ]
    },
    {
      "cell_type": "code",
      "metadata": {
        "colab": {
          "base_uri": "https://localhost:8080/"
        },
        "id": "HOw3BbY2kk3s",
        "outputId": "9fe38bae-f401-41eb-984b-890f1ae31970"
      },
      "source": [
        "import numpy as np\n",
        "A = np.array([[4,1,8],[10,26,26],[8,26,21]])\n",
        "print (A)\n",
        "inv_A=np.linalg.inv(A)\n",
        "print(A)\n",
        "\n",
        "B = np.array ([[44,],[128],[214]])\n",
        "print(B)\n",
        "\n",
        "#XX^1z = .A^-1\n",
        "X = np.dot(inv_A,B)\n",
        "print(X)"
      ],
      "execution_count": 2,
      "outputs": [
        {
          "output_type": "stream",
          "name": "stdout",
          "text": [
            "[[ 4  1  8]\n",
            " [10 26 26]\n",
            " [ 8 26 21]]\n",
            "[[ 4  1  8]\n",
            " [10 26 26]\n",
            " [ 8 26 21]]\n",
            "[[ 44]\n",
            " [128]\n",
            " [214]]\n",
            "[[195.58490566]\n",
            " [ 25.13207547]\n",
            " [-95.43396226]]\n"
          ]
        }
      ]
    }
  ]
}